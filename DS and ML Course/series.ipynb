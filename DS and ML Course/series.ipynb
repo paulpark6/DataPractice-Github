{
 "cells": [
  {
   "cell_type": "markdown",
   "metadata": {},
   "source": [
    "# Series in Pandas"
   ]
  },
  {
   "cell_type": "markdown",
   "metadata": {},
   "source": [
    "## Series vs Data frame\n",
    "\n",
    "| **Feature**               | **Pandas Series**                          | **Pandas DataFrame**                         |\n",
    "|---------------------------|--------------------------------------------|----------------------------------------------|\n",
    "| **Dimension**             | One-dimensional                            | Two-dimensional                              |\n",
    "| **Structure**             | Single column                              | Multiple columns                             |\n",
    "| **Index**                 | Has an index                               | Has row and column indices                   |\n",
    "| **Data Type**             | Homogeneous (all elements of the same type)| Heterogeneous (columns can have different types) |\n",
    "| **Complexity**            | Simple                                     | More complex                                 |\n",
    "| **Use Case**              | Single column or array-like data           | Tabular data with multiple columns           |\n",
    "| **Examples**              | Time series, single metrics                | Excel-like tables, datasets with multiple variables |\n",
    "| **When to Use**           | - When dealing with a single set of values<br>- When performing vectorized operations on a single column | - When handling multiple columns of data<br>- When performing complex data operations like filtering, grouping, joining, etc. |\n"
   ]
  },
  {
   "cell_type": "code",
   "execution_count": 1,
   "metadata": {},
   "outputs": [],
   "source": [
    "import pandas as pd\n",
    "import numpy as np"
   ]
  },
  {
   "cell_type": "code",
   "execution_count": 2,
   "metadata": {},
   "outputs": [],
   "source": [
    "labels = ['a','b','c']\n",
    "my_data= [10,20,30]\n",
    "arr =np.array(my_data)\n",
    "d = {'a':10,'b':20,'c':30}"
   ]
  },
  {
   "cell_type": "code",
   "execution_count": 3,
   "metadata": {},
   "outputs": [
    {
     "data": {
      "text/plain": [
       "a    10\n",
       "b    20\n",
       "c    30\n",
       "dtype: int64"
      ]
     },
     "execution_count": 3,
     "metadata": {},
     "output_type": "execute_result"
    }
   ],
   "source": [
    "pd.Series(data = my_data, index=labels)"
   ]
  },
  {
   "cell_type": "code",
   "execution_count": 5,
   "metadata": {},
   "outputs": [
    {
     "data": {
      "text/plain": [
       "0      <built-in function sum>\n",
       "1    <built-in function print>\n",
       "2      <built-in function len>\n",
       "dtype: object"
      ]
     },
     "execution_count": 5,
     "metadata": {},
     "output_type": "execute_result"
    }
   ],
   "source": [
    "pd.Series(data=[sum,print,len]) # hold references to functions in pandas series"
   ]
  },
  {
   "cell_type": "code",
   "execution_count": 13,
   "metadata": {},
   "outputs": [
    {
     "name": "stdout",
     "output_type": "stream",
     "text": [
      "1\n",
      "5\n"
     ]
    }
   ],
   "source": [
    "# grabbing information from series\n",
    "\n",
    "ser1 = pd.Series([1,2,3,4],[\"USA\",\"Germany\",\"USSR\",\"Japan\"])\n",
    "ser2 = pd.Series([1,2,5,4],[\"USA\",\"Germany\",\"Italy\",\"Japan\"])\n",
    "\n",
    "print(ser1['USA'])\n",
    "print(ser2['Italy'])"
   ]
  },
  {
   "cell_type": "code",
   "execution_count": 18,
   "metadata": {},
   "outputs": [
    {
     "data": {
      "text/plain": [
       "Germany    4\n",
       "Italy      5\n",
       "Japan      8\n",
       "USA        2\n",
       "USSR       3\n",
       "dtype: int32"
      ]
     },
     "execution_count": 18,
     "metadata": {},
     "output_type": "execute_result"
    }
   ],
   "source": [
    "# Adding the two Series with fill_value=0\n",
    "result = ser1.add(ser2, fill_value=0)\n",
    "\n",
    "# Ensuring the final values are integers\n",
    "result = result.astype(int)\n",
    "result"
   ]
  }
 ],
 "metadata": {
  "kernelspec": {
   "display_name": "Python 3",
   "language": "python",
   "name": "python3"
  },
  "language_info": {
   "codemirror_mode": {
    "name": "ipython",
    "version": 3
   },
   "file_extension": ".py",
   "mimetype": "text/x-python",
   "name": "python",
   "nbconvert_exporter": "python",
   "pygments_lexer": "ipython3",
   "version": "3.12.2"
  }
 },
 "nbformat": 4,
 "nbformat_minor": 2
}
