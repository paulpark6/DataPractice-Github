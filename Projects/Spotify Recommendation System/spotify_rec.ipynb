{
 "cells": [
  {
   "cell_type": "markdown",
   "metadata": {},
   "source": [
    "# Spotify Recommendation - Finding your music taste!"
   ]
  },
  {
   "cell_type": "markdown",
   "metadata": {},
   "source": [
    "## Import necessary libraries"
   ]
  },
  {
   "cell_type": "code",
   "execution_count": 1,
   "metadata": {},
   "outputs": [],
   "source": [
    "import pandas as pd\n",
    "from requests_oauthlib import OAuth2Session\n",
    "from oauthlib.oauth2 import BackendApplicationClient\n",
    "import requests\n",
    "import time\n",
    "from pandas import json_normalize"
   ]
  },
  {
   "cell_type": "markdown",
   "metadata": {},
   "source": [
    "## Using Credentials to access OAuth for spotify"
   ]
  },
  {
   "cell_type": "code",
   "execution_count": 2,
   "metadata": {},
   "outputs": [],
   "source": [
    "# Your credentials\n",
    "client_id = '0af53b02c90245839d0f6d6f3bf45fb1'\n",
    "client_secret = '89783cd95eac43eebbfc7f2e2a885dbb'\n",
    "\n",
    "# Create a session\n",
    "client = BackendApplicationClient(client_id=client_id)\n",
    "oauth = OAuth2Session(client=client)\n",
    "\n",
    "# Get token for the session\n",
    "token = oauth.fetch_token(\n",
    "    token_url='https://accounts.spotify.com/api/token',\n",
    "    client_id=client_id,\n",
    "    client_secret=client_secret,\n",
    "    include_client_id=True\n",
    ")"
   ]
  },
  {
   "cell_type": "markdown",
   "metadata": {},
   "source": [
    "## Ideas for model"
   ]
  },
  {
   "cell_type": "markdown",
   "metadata": {},
   "source": [
    "Before we start, we need to consider a couple of things when recommending songs:\n",
    "\n",
    "- Is the track available for specified country?\n",
    "\n",
    "- Did the user dislike similar tracks or this specified track?"
   ]
  },
  {
   "cell_type": "markdown",
   "metadata": {},
   "source": [
    "Features for the model:\n",
    "\n",
    "- Maybe consider getting input from users of language/country of song you want?"
   ]
  },
  {
   "cell_type": "markdown",
   "metadata": {},
   "source": [
    "## Initializing Token and Getting API Request"
   ]
  },
  {
   "cell_type": "code",
   "execution_count": 3,
   "metadata": {},
   "outputs": [],
   "source": [
    "# The headers to provide the access token for authentication\n",
    "headers = {\n",
    "    'Authorization': f'Bearer {token[\"access_token\"]}',     # OAuth 2.0 Bearer token for authorization\n",
    "    'Content-Type': 'application/json'                      # Indicates the media type of the resource\n",
    "}"
   ]
  },
  {
   "cell_type": "code",
   "execution_count": 4,
   "metadata": {},
   "outputs": [],
   "source": [
    "token_expiry = token['expires_at'] # gives time of expiry in total seconds\n",
    "#token_expiry_time = time.strftime('%Y-%m-%d %H:%M:%S', time.localtime(token_expiry)) # converting to readable time format"
   ]
  },
  {
   "cell_type": "markdown",
   "metadata": {},
   "source": [
    "we need to check if time.time() is going to exceed the token_expiry_date. If so then renew the token!"
   ]
  },
  {
   "cell_type": "code",
   "execution_count": 5,
   "metadata": {},
   "outputs": [],
   "source": [
    "# void function to get new token if needed\n",
    "def refresh_token_if_needed():\n",
    "    global token, token_expiry  # Declare token and token_expiry as global variables\n",
    "    # Check if the current time is within 60 seconds of expiry or past it\n",
    "    if time.time() > token_expiry - 60:\n",
    "        client = BackendApplicationClient(client_id=client_id)\n",
    "        oauth = OAuth2Session(client=client)\n",
    "        \n",
    "        # Fetch a new token and update the global token variable\n",
    "        token = oauth.fetch_token(\n",
    "            token_url='https://accounts.spotify.com/api/token',\n",
    "            client_id=client_id,\n",
    "            client_secret=client_secret,\n",
    "            include_client_id=True\n",
    "        )\n",
    "        \n",
    "        # Calculate and update the global token_expiry variable\n",
    "        token_expiry = time.time() + token['expires_in']\n"
   ]
  },
  {
   "cell_type": "markdown",
   "metadata": {},
   "source": [
    "## Recommending songs based on user chosen track"
   ]
  },
  {
   "cell_type": "code",
   "execution_count": 6,
   "metadata": {},
   "outputs": [],
   "source": [
    "song_title = \"Self Care\"\n",
    "artist_name = \"Mac Miller\"\n",
    "# check if search is case sensitive?"
   ]
  },
  {
   "cell_type": "markdown",
   "metadata": {},
   "source": [
    "function that search user defined song.\n",
    "\n",
    "The search is not case sensitive.\n",
    "\n",
    "Ex: artist_name = mac miller, song_title='whats the use'\n",
    "\n",
    "It will still give the song. Original name is \"Mac Miller\", \"What's the use?\""
   ]
  },
  {
   "cell_type": "code",
   "execution_count": 24,
   "metadata": {},
   "outputs": [],
   "source": [
    "def search_song(artist_name=\"\", song_title=\"\"):\n",
    "    url = \"https://api.spotify.com/v1/search\"\n",
    "    refresh_token_if_needed()\n",
    "    headers = {\n",
    "        'Authorization': f'Bearer {token[\"access_token\"]}',  # specify token\n",
    "        'Content-Type': 'application/json'  # specify data type that you receive\n",
    "    }\n",
    "    # dictionary format for search parameter\n",
    "    # https://developer.spotify.com/documentation/web-api/reference/search \n",
    "    # use the link above for a documentation guide for search parameters\n",
    "    search_query = f'track:{song_title} artist:{artist_name}'.strip()\n",
    "    search_params = {\n",
    "        'q': search_query if search_query else 'year:0000',  # A default query that returns minimal results\n",
    "        'type': 'track',  # specifies that you are searching for tracks\n",
    "        'limit': 1  # limits the response to the top 1 most relevant result\n",
    "    }\n",
    "\n",
    "    response = requests.get(url, headers=headers, params=search_params).json()\n",
    "    # You might want to add error handling here to manage potential API errors\n",
    "\n",
    "    # Extracting the most relevant song; if no songs are found, returns None\n",
    "    return response['tracks']['items'][0] if response['tracks']['items'] else None"
   ]
  },
  {
   "cell_type": "markdown",
   "metadata": {},
   "source": [
    "Searching song based on song title and artist name"
   ]
  },
  {
   "cell_type": "code",
   "execution_count": 33,
   "metadata": {},
   "outputs": [],
   "source": [
    "df = json_normalize(search_song('mac miller', 'whats the use'))"
   ]
  },
  {
   "cell_type": "code",
   "execution_count": 30,
   "metadata": {},
   "outputs": [
    {
     "data": {
      "text/plain": [
       "0    What's the Use?\n",
       "Name: name, dtype: object"
      ]
     },
     "execution_count": 30,
     "metadata": {},
     "output_type": "execute_result"
    }
   ],
   "source": [
    "df['name']"
   ]
  },
  {
   "cell_type": "code",
   "execution_count": 29,
   "metadata": {},
   "outputs": [
    {
     "name": "stdout",
     "output_type": "stream",
     "text": [
      "<class 'pandas.core.frame.DataFrame'>\n",
      "RangeIndex: 1 entries, 0 to 0\n",
      "Data columns (total 29 columns):\n",
      " #   Column                        Non-Null Count  Dtype \n",
      "---  ------                        --------------  ----- \n",
      " 0   artists                       1 non-null      object\n",
      " 1   available_markets             1 non-null      object\n",
      " 2   disc_number                   1 non-null      int64 \n",
      " 3   duration_ms                   1 non-null      int64 \n",
      " 4   explicit                      1 non-null      bool  \n",
      " 5   href                          1 non-null      object\n",
      " 6   id                            1 non-null      object\n",
      " 7   is_local                      1 non-null      bool  \n",
      " 8   name                          1 non-null      object\n",
      " 9   popularity                    1 non-null      int64 \n",
      " 10  preview_url                   1 non-null      object\n",
      " 11  track_number                  1 non-null      int64 \n",
      " 12  type                          1 non-null      object\n",
      " 13  uri                           1 non-null      object\n",
      " 14  album.album_type              1 non-null      object\n",
      " 15  album.artists                 1 non-null      object\n",
      " 16  album.available_markets       1 non-null      object\n",
      " 17  album.external_urls.spotify   1 non-null      object\n",
      " 18  album.href                    1 non-null      object\n",
      " 19  album.id                      1 non-null      object\n",
      " 20  album.images                  1 non-null      object\n",
      " 21  album.name                    1 non-null      object\n",
      " 22  album.release_date            1 non-null      object\n",
      " 23  album.release_date_precision  1 non-null      object\n",
      " 24  album.total_tracks            1 non-null      int64 \n",
      " 25  album.type                    1 non-null      object\n",
      " 26  album.uri                     1 non-null      object\n",
      " 27  external_ids.isrc             1 non-null      object\n",
      " 28  external_urls.spotify         1 non-null      object\n",
      "dtypes: bool(2), int64(5), object(22)\n",
      "memory usage: 350.0+ bytes\n"
     ]
    }
   ],
   "source": [
    "df.info()"
   ]
  }
 ],
 "metadata": {
  "kernelspec": {
   "display_name": "Python 3",
   "language": "python",
   "name": "python3"
  },
  "language_info": {
   "codemirror_mode": {
    "name": "ipython",
    "version": 3
   },
   "file_extension": ".py",
   "mimetype": "text/x-python",
   "name": "python",
   "nbconvert_exporter": "python",
   "pygments_lexer": "ipython3",
   "version": "3.12.2"
  }
 },
 "nbformat": 4,
 "nbformat_minor": 2
}
