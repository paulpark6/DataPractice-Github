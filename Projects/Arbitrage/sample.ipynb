{
 "cells": [
  {
   "cell_type": "markdown",
   "metadata": {},
   "source": [
    "# Arbitrage\n",
    "\n",
    "This calculator will calculate how much you have to put to minimize loss"
   ]
  },
  {
   "cell_type": "code",
   "execution_count": 16,
   "metadata": {},
   "outputs": [],
   "source": [
    "# failed formula\n",
    "def calculate_bets(total_bet_amount, team1_odds, team2_odds):\n",
    "    # Calculate implied probabilities\n",
    "    if team1_odds < 0:\n",
    "        implied_prob_team1 = -team1_odds / (-team1_odds + 100)\n",
    "    else:\n",
    "        implied_prob_team1 = 100 / (team1_odds + 100)\n",
    "    \n",
    "    if team2_odds < 0:\n",
    "        implied_prob_team2 = -team2_odds / (-team2_odds + 100)\n",
    "    else:\n",
    "        implied_prob_team2 = 100 / (team2_odds + 100)\n",
    "\n",
    "    # Total implied probability\n",
    "    total_implied_prob = implied_prob_team1 + implied_prob_team2\n",
    "\n",
    "    # Calculate the bet amounts based on inverse of the odds\n",
    "    bet_on_team1 = (implied_prob_team1 / total_implied_prob) * total_bet_amount\n",
    "    bet_on_team2 = (implied_prob_team2 / total_implied_prob) * total_bet_amount\n",
    "\n",
    "    # Calculate potential returns\n",
    "    profit_if_team1_wins = (bet_on_team1 * (100 / abs(team1_odds)) if team1_odds < 0 else bet_on_team1 * (team1_odds / 100)) - bet_on_team2\n",
    "    profit_if_team2_wins = (bet_on_team2 * (100 / abs(team2_odds)) if team2_odds < 0 else bet_on_team2 * (team2_odds / 100)) - bet_on_team1\n",
    "    \n",
    "    # Output the calculated bet amounts and potential outcomes\n",
    "    print(f\"Bet on Team 1: ${bet_on_team1:.2f}\")\n",
    "    print(f\"Bet on Team 2: ${bet_on_team2:.2f}\")\n",
    "    print(f\"Profit if Team 1 wins: ${profit_if_team1_wins:.2f}\")\n",
    "    print(f\"Profit if Team 2 wins: ${profit_if_team2_wins:.2f}\")\n"
   ]
  },
  {
   "cell_type": "code",
   "execution_count": 14,
   "metadata": {},
   "outputs": [
    {
     "name": "stdout",
     "output_type": "stream",
     "text": [
      "Bet on Team 1: $663.57\n",
      "Bet on Team 2: $336.43\n",
      "Profit if Team 1 wins: $-47.92\n",
      "Profit if Team 2 wins: $-47.92\n"
     ]
    }
   ],
   "source": [
    "# Example usage:\n",
    "calculate_bets(1000, team1_odds=-230, team2_odds=183)"
   ]
  },
  {
   "cell_type": "code",
   "execution_count": 18,
   "metadata": {},
   "outputs": [],
   "source": [
    "def calculate_profit(bet_amount, odds):\n",
    "    if odds < 0:\n",
    "        # Negative odds: how much to bet to win $100\n",
    "        profit = (100 / abs(odds)) * bet_amount\n",
    "    else:\n",
    "        # Positive odds: winnings for a $100 bet\n",
    "        profit = (odds / 100) * bet_amount\n",
    "    return profit"
   ]
  },
  {
   "cell_type": "code",
   "execution_count": 21,
   "metadata": {},
   "outputs": [
    {
     "name": "stdout",
     "output_type": "stream",
     "text": [
      "Profit if Team 1 wins: $217.39\n",
      "Profit if Team 2 wins: $915.00\n"
     ]
    }
   ],
   "source": [
    "profit_team1 = calculate_profit(500, -230) # Leafs\n",
    "profit_team2 = calculate_profit(500, 183) # Jackets\n",
    "\n",
    "print(f\"Profit if Team 1 wins: ${profit_team1:.2f}\")\n",
    "print(f\"Profit if Team 2 wins: ${profit_team2:.2f}\")"
   ]
  }
 ],
 "metadata": {
  "kernelspec": {
   "display_name": "Python 3",
   "language": "python",
   "name": "python3"
  },
  "language_info": {
   "codemirror_mode": {
    "name": "ipython",
    "version": 3
   },
   "file_extension": ".py",
   "mimetype": "text/x-python",
   "name": "python",
   "nbconvert_exporter": "python",
   "pygments_lexer": "ipython3",
   "version": "3.12.0"
  }
 },
 "nbformat": 4,
 "nbformat_minor": 2
}
