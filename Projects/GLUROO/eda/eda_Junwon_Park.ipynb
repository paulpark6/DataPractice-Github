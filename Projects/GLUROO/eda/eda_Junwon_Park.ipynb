{
 "cells": [
  {
   "cell_type": "markdown",
   "metadata": {},
   "source": [
    "# Blood Glucose Control - EDA\n",
    "\n",
    "**Name:** [*Junwon Park*]\n",
    "\n"
   ]
  },
  {
   "cell_type": "markdown",
   "metadata": {},
   "source": [
    "# Data Cleaning"
   ]
  },
  {
   "cell_type": "markdown",
   "metadata": {},
   "source": [
    "### Import Data and libraries\n",
    "\n",
    "There are multiple data sets each corresponding to a person with diabetes. Please load the files into a single data set while retaining the ability to distinguish between the PWD. "
   ]
  },
  {
   "cell_type": "code",
   "execution_count": 1,
   "metadata": {},
   "outputs": [],
   "source": [
    "import pandas as pd\n",
    "import matplotlib.pyplot as plt\n",
    "from datetime import datetime\n",
    "import matplotlib.pyplot as plt\n",
    "import seaborn as sns\n",
    "import numpy as np\n",
    "\n",
    "df1 = pd.read_csv('../data/gluroo_500030.csv')\n",
    "df2= pd.read_csv('../data/gluroo_679372.csv')"
   ]
  },
  {
   "cell_type": "markdown",
   "metadata": {},
   "source": [
    "### Function to edit the date column"
   ]
  },
  {
   "cell_type": "code",
   "execution_count": 2,
   "metadata": {},
   "outputs": [],
   "source": [
    "# Function to format the date by removing the time zone and ensuring consistency\n",
    "def format_date(date):\n",
    "    if isinstance(date, str):  # Ensure it's a string before parsing\n",
    "        try:\n",
    "            # Try parsing with microseconds and timezone\n",
    "            datetime_obj = datetime.strptime(date, '%Y-%m-%d %H:%M:%S.%f%z')\n",
    "        except ValueError:\n",
    "            try:\n",
    "                # If it fails, try parsing without microseconds\n",
    "                datetime_obj = datetime.strptime(date, '%Y-%m-%d %H:%M:%S%z')\n",
    "            except ValueError:\n",
    "                # Handle cases with no timezone info or microseconds\n",
    "                try:\n",
    "                    datetime_obj = datetime.strptime(date, '%Y-%m-%d %H:%M:%S.%f')\n",
    "                except ValueError:\n",
    "                    datetime_obj = datetime.strptime(date, '%Y-%m-%d %H:%M:%S')\n",
    "        \n",
    "        # Return the formatted datetime without timezone, with milliseconds precision\n",
    "        return datetime_obj.strftime('%y/%m/%d %H:%M:%S.%f')[:-3]\n",
    "    return date  # If it's not a string, return the original value"
   ]
  },
  {
   "cell_type": "markdown",
   "metadata": {},
   "source": [
    "Checking if date information is lost if we use the format_date function."
   ]
  },
  {
   "cell_type": "code",
   "execution_count": 3,
   "metadata": {},
   "outputs": [
    {
     "data": {
      "text/plain": [
       "27692"
      ]
     },
     "execution_count": 3,
     "metadata": {},
     "output_type": "execute_result"
    }
   ],
   "source": [
    "df1['date'].nunique()# looks like date is not unique, no specified id column."
   ]
  },
  {
   "cell_type": "code",
   "execution_count": 4,
   "metadata": {},
   "outputs": [
    {
     "data": {
      "text/plain": [
       "27692"
      ]
     },
     "execution_count": 4,
     "metadata": {},
     "output_type": "execute_result"
    }
   ],
   "source": [
    "df1['date'].apply(format_date).nunique()"
   ]
  },
  {
   "cell_type": "markdown",
   "metadata": {},
   "source": [
    "looks like no informations is lost"
   ]
  },
  {
   "cell_type": "markdown",
   "metadata": {},
   "source": [
    "creating a function to create separate columns for date attributes (to make it easier using groupby)"
   ]
  },
  {
   "cell_type": "code",
   "execution_count": 5,
   "metadata": {},
   "outputs": [],
   "source": [
    "# Function to split the date into components\n",
    "def separate_date(df):\n",
    "    # First, apply the format_date function to the 'date' column to clean it up\n",
    "    df['date'] = df['date'].apply(format_date)\n",
    "    \n",
    "    # Now convert the cleaned 'date' column into datetime format\n",
    "    df['date'] = pd.to_datetime(df['date'], format='%y/%m/%d %H:%M:%S.%f')\n",
    "    \n",
    "    # Extract year, month, day, etc.\n",
    "    df['year'] = df['date'].dt.year\n",
    "    df['month'] = df['date'].dt.month\n",
    "    df['day'] = df['date'].dt.day\n",
    "    df['hour'] = df['date'].dt.hour\n",
    "    df['minute'] = df['date'].dt.minute\n",
    "    df['second'] = df['date'].dt.second\n",
    "    df['seconds_with_micro'] = df['date'].dt.second + df['date'].dt.microsecond / 1_000_000\n",
    "    \n",
    "    return df\n",
    "\n",
    "# Applying the function to the dataframe\n",
    "df1 = separate_date(df1)\n"
   ]
  },
  {
   "cell_type": "code",
   "execution_count": 6,
   "metadata": {},
   "outputs": [],
   "source": [
    "df1 = separate_date(df1.apply(format_date))\n",
    "df2 = separate_date(df2.apply(format_date))"
   ]
  },
  {
   "cell_type": "markdown",
   "metadata": {},
   "source": [
    "# Data Description"
   ]
  },
  {
   "cell_type": "code",
   "execution_count": 7,
   "metadata": {},
   "outputs": [
    {
     "data": {
      "text/html": [
       "<div>\n",
       "<style scoped>\n",
       "    .dataframe tbody tr th:only-of-type {\n",
       "        vertical-align: middle;\n",
       "    }\n",
       "\n",
       "    .dataframe tbody tr th {\n",
       "        vertical-align: top;\n",
       "    }\n",
       "\n",
       "    .dataframe thead th {\n",
       "        text-align: right;\n",
       "    }\n",
       "</style>\n",
       "<table border=\"1\" class=\"dataframe\">\n",
       "  <thead>\n",
       "    <tr style=\"text-align: right;\">\n",
       "      <th></th>\n",
       "      <th>date</th>\n",
       "      <th>count</th>\n",
       "    </tr>\n",
       "  </thead>\n",
       "  <tbody>\n",
       "    <tr>\n",
       "      <th>1263</th>\n",
       "      <td>2024-05-05 05:06:55.374</td>\n",
       "      <td>2</td>\n",
       "    </tr>\n",
       "    <tr>\n",
       "      <th>2972</th>\n",
       "      <td>2024-05-10 20:26:41.469</td>\n",
       "      <td>3</td>\n",
       "    </tr>\n",
       "    <tr>\n",
       "      <th>3026</th>\n",
       "      <td>2024-05-11 00:38:31.900</td>\n",
       "      <td>2</td>\n",
       "    </tr>\n",
       "    <tr>\n",
       "      <th>3201</th>\n",
       "      <td>2024-05-11 14:24:43.766</td>\n",
       "      <td>2</td>\n",
       "    </tr>\n",
       "    <tr>\n",
       "      <th>3429</th>\n",
       "      <td>2024-05-12 08:24:57.352</td>\n",
       "      <td>2</td>\n",
       "    </tr>\n",
       "    <tr>\n",
       "      <th>3620</th>\n",
       "      <td>2024-05-12 23:36:26.143</td>\n",
       "      <td>2</td>\n",
       "    </tr>\n",
       "    <tr>\n",
       "      <th>3686</th>\n",
       "      <td>2024-05-13 04:46:16.639</td>\n",
       "      <td>3</td>\n",
       "    </tr>\n",
       "    <tr>\n",
       "      <th>3896</th>\n",
       "      <td>2024-05-13 21:02:13.558</td>\n",
       "      <td>2</td>\n",
       "    </tr>\n",
       "    <tr>\n",
       "      <th>5064</th>\n",
       "      <td>2024-05-18 00:32:04.575</td>\n",
       "      <td>2</td>\n",
       "    </tr>\n",
       "    <tr>\n",
       "      <th>5535</th>\n",
       "      <td>2024-05-19 14:23:38.990</td>\n",
       "      <td>2</td>\n",
       "    </tr>\n",
       "    <tr>\n",
       "      <th>6197</th>\n",
       "      <td>2024-05-21 18:27:25.652</td>\n",
       "      <td>2</td>\n",
       "    </tr>\n",
       "    <tr>\n",
       "      <th>7592</th>\n",
       "      <td>2024-05-26 10:46:11.076</td>\n",
       "      <td>2</td>\n",
       "    </tr>\n",
       "    <tr>\n",
       "      <th>8306</th>\n",
       "      <td>2024-05-28 18:22:06.509</td>\n",
       "      <td>3</td>\n",
       "    </tr>\n",
       "    <tr>\n",
       "      <th>8615</th>\n",
       "      <td>2024-05-29 18:21:20.164</td>\n",
       "      <td>2</td>\n",
       "    </tr>\n",
       "    <tr>\n",
       "      <th>8853</th>\n",
       "      <td>2024-05-30 13:31:55.409</td>\n",
       "      <td>2</td>\n",
       "    </tr>\n",
       "    <tr>\n",
       "      <th>8856</th>\n",
       "      <td>2024-05-30 13:45:56.172</td>\n",
       "      <td>2</td>\n",
       "    </tr>\n",
       "    <tr>\n",
       "      <th>9297</th>\n",
       "      <td>2024-06-01 00:55:52.863</td>\n",
       "      <td>2</td>\n",
       "    </tr>\n",
       "    <tr>\n",
       "      <th>10080</th>\n",
       "      <td>2024-06-03 14:33:03.527</td>\n",
       "      <td>2</td>\n",
       "    </tr>\n",
       "    <tr>\n",
       "      <th>10897</th>\n",
       "      <td>2024-06-06 11:00:38.851</td>\n",
       "      <td>2</td>\n",
       "    </tr>\n",
       "    <tr>\n",
       "      <th>11013</th>\n",
       "      <td>2024-06-06 20:11:38.435</td>\n",
       "      <td>2</td>\n",
       "    </tr>\n",
       "    <tr>\n",
       "      <th>11221</th>\n",
       "      <td>2024-06-07 12:39:10.371</td>\n",
       "      <td>2</td>\n",
       "    </tr>\n",
       "    <tr>\n",
       "      <th>11293</th>\n",
       "      <td>2024-06-07 18:24:58.224</td>\n",
       "      <td>2</td>\n",
       "    </tr>\n",
       "    <tr>\n",
       "      <th>11383</th>\n",
       "      <td>2024-06-08 01:07:06.144</td>\n",
       "      <td>2</td>\n",
       "    </tr>\n",
       "    <tr>\n",
       "      <th>11858</th>\n",
       "      <td>2024-06-09 14:37:08.603</td>\n",
       "      <td>2</td>\n",
       "    </tr>\n",
       "    <tr>\n",
       "      <th>12492</th>\n",
       "      <td>2024-06-11 17:38:12.911</td>\n",
       "      <td>2</td>\n",
       "    </tr>\n",
       "    <tr>\n",
       "      <th>12750</th>\n",
       "      <td>2024-06-12 13:48:37.320</td>\n",
       "      <td>2</td>\n",
       "    </tr>\n",
       "    <tr>\n",
       "      <th>13292</th>\n",
       "      <td>2024-06-14 09:15:00.000</td>\n",
       "      <td>2</td>\n",
       "    </tr>\n",
       "    <tr>\n",
       "      <th>13322</th>\n",
       "      <td>2024-06-14 11:33:49.813</td>\n",
       "      <td>2</td>\n",
       "    </tr>\n",
       "    <tr>\n",
       "      <th>13418</th>\n",
       "      <td>2024-06-14 20:42:33.800</td>\n",
       "      <td>2</td>\n",
       "    </tr>\n",
       "    <tr>\n",
       "      <th>14003</th>\n",
       "      <td>2024-06-16 19:01:04.593</td>\n",
       "      <td>2</td>\n",
       "    </tr>\n",
       "    <tr>\n",
       "      <th>14166</th>\n",
       "      <td>2024-06-17 08:12:30.854</td>\n",
       "      <td>2</td>\n",
       "    </tr>\n",
       "    <tr>\n",
       "      <th>14787</th>\n",
       "      <td>2024-06-19 09:22:39.691</td>\n",
       "      <td>2</td>\n",
       "    </tr>\n",
       "    <tr>\n",
       "      <th>15169</th>\n",
       "      <td>2024-06-20 15:31:12.617</td>\n",
       "      <td>2</td>\n",
       "    </tr>\n",
       "    <tr>\n",
       "      <th>17058</th>\n",
       "      <td>2024-06-26 23:20:03.171</td>\n",
       "      <td>2</td>\n",
       "    </tr>\n",
       "    <tr>\n",
       "      <th>18150</th>\n",
       "      <td>2024-06-30 13:18:34.287</td>\n",
       "      <td>2</td>\n",
       "    </tr>\n",
       "    <tr>\n",
       "      <th>18278</th>\n",
       "      <td>2024-06-30 23:07:35.289</td>\n",
       "      <td>2</td>\n",
       "    </tr>\n",
       "    <tr>\n",
       "      <th>18894</th>\n",
       "      <td>2024-07-02 22:59:19.036</td>\n",
       "      <td>2</td>\n",
       "    </tr>\n",
       "    <tr>\n",
       "      <th>21177</th>\n",
       "      <td>2024-07-10 14:17:30.352</td>\n",
       "      <td>2</td>\n",
       "    </tr>\n",
       "    <tr>\n",
       "      <th>21551</th>\n",
       "      <td>2024-07-11 19:29:16.165</td>\n",
       "      <td>2</td>\n",
       "    </tr>\n",
       "    <tr>\n",
       "      <th>24888</th>\n",
       "      <td>2024-07-22 18:08:44.721</td>\n",
       "      <td>2</td>\n",
       "    </tr>\n",
       "    <tr>\n",
       "      <th>25490</th>\n",
       "      <td>2024-07-24 18:37:54.377</td>\n",
       "      <td>2</td>\n",
       "    </tr>\n",
       "    <tr>\n",
       "      <th>25575</th>\n",
       "      <td>2024-07-25 01:21:09.862</td>\n",
       "      <td>2</td>\n",
       "    </tr>\n",
       "  </tbody>\n",
       "</table>\n",
       "</div>"
      ],
      "text/plain": [
       "                         date  count\n",
       "1263  2024-05-05 05:06:55.374      2\n",
       "2972  2024-05-10 20:26:41.469      3\n",
       "3026  2024-05-11 00:38:31.900      2\n",
       "3201  2024-05-11 14:24:43.766      2\n",
       "3429  2024-05-12 08:24:57.352      2\n",
       "3620  2024-05-12 23:36:26.143      2\n",
       "3686  2024-05-13 04:46:16.639      3\n",
       "3896  2024-05-13 21:02:13.558      2\n",
       "5064  2024-05-18 00:32:04.575      2\n",
       "5535  2024-05-19 14:23:38.990      2\n",
       "6197  2024-05-21 18:27:25.652      2\n",
       "7592  2024-05-26 10:46:11.076      2\n",
       "8306  2024-05-28 18:22:06.509      3\n",
       "8615  2024-05-29 18:21:20.164      2\n",
       "8853  2024-05-30 13:31:55.409      2\n",
       "8856  2024-05-30 13:45:56.172      2\n",
       "9297  2024-06-01 00:55:52.863      2\n",
       "10080 2024-06-03 14:33:03.527      2\n",
       "10897 2024-06-06 11:00:38.851      2\n",
       "11013 2024-06-06 20:11:38.435      2\n",
       "11221 2024-06-07 12:39:10.371      2\n",
       "11293 2024-06-07 18:24:58.224      2\n",
       "11383 2024-06-08 01:07:06.144      2\n",
       "11858 2024-06-09 14:37:08.603      2\n",
       "12492 2024-06-11 17:38:12.911      2\n",
       "12750 2024-06-12 13:48:37.320      2\n",
       "13292 2024-06-14 09:15:00.000      2\n",
       "13322 2024-06-14 11:33:49.813      2\n",
       "13418 2024-06-14 20:42:33.800      2\n",
       "14003 2024-06-16 19:01:04.593      2\n",
       "14166 2024-06-17 08:12:30.854      2\n",
       "14787 2024-06-19 09:22:39.691      2\n",
       "15169 2024-06-20 15:31:12.617      2\n",
       "17058 2024-06-26 23:20:03.171      2\n",
       "18150 2024-06-30 13:18:34.287      2\n",
       "18278 2024-06-30 23:07:35.289      2\n",
       "18894 2024-07-02 22:59:19.036      2\n",
       "21177 2024-07-10 14:17:30.352      2\n",
       "21551 2024-07-11 19:29:16.165      2\n",
       "24888 2024-07-22 18:08:44.721      2\n",
       "25490 2024-07-24 18:37:54.377      2\n",
       "25575 2024-07-25 01:21:09.862      2"
      ]
     },
     "execution_count": 7,
     "metadata": {},
     "output_type": "execute_result"
    }
   ],
   "source": [
    "tmp = df1.groupby(by=['date']).size().reset_index(name='count')\n",
    "tmp[tmp['count']>1] ## looks like there are overlapping dates "
   ]
  },
  {
   "cell_type": "code",
   "execution_count": 8,
   "metadata": {},
   "outputs": [
    {
     "data": {
      "text/html": [
       "<div>\n",
       "<style scoped>\n",
       "    .dataframe tbody tr th:only-of-type {\n",
       "        vertical-align: middle;\n",
       "    }\n",
       "\n",
       "    .dataframe tbody tr th {\n",
       "        vertical-align: top;\n",
       "    }\n",
       "\n",
       "    .dataframe thead th {\n",
       "        text-align: right;\n",
       "    }\n",
       "</style>\n",
       "<table border=\"1\" class=\"dataframe\">\n",
       "  <thead>\n",
       "    <tr style=\"text-align: right;\">\n",
       "      <th></th>\n",
       "      <th>text</th>\n",
       "      <th>food_g</th>\n",
       "    </tr>\n",
       "  </thead>\n",
       "  <tbody>\n",
       "    <tr>\n",
       "      <th>3693</th>\n",
       "      <td>12g Glucose</td>\n",
       "      <td>12.0</td>\n",
       "    </tr>\n",
       "    <tr>\n",
       "      <th>3694</th>\n",
       "      <td>9g Glucose</td>\n",
       "      <td>9.0</td>\n",
       "    </tr>\n",
       "    <tr>\n",
       "      <th>3695</th>\n",
       "      <td>6g Glucose</td>\n",
       "      <td>6.0</td>\n",
       "    </tr>\n",
       "  </tbody>\n",
       "</table>\n",
       "</div>"
      ],
      "text/plain": [
       "             text  food_g\n",
       "3693  12g Glucose    12.0\n",
       "3694   9g Glucose     9.0\n",
       "3695   6g Glucose     6.0"
      ]
     },
     "execution_count": 8,
     "metadata": {},
     "output_type": "execute_result"
    }
   ],
   "source": [
    "# Example case when with rows with same time but differnt info, these columns had different info\n",
    "df1[df1['date'] == '2024-05-13 04:46:16.639'][['text','food_g']]"
   ]
  },
  {
   "cell_type": "code",
   "execution_count": 9,
   "metadata": {},
   "outputs": [
    {
     "name": "stdout",
     "output_type": "stream",
     "text": [
      "<class 'pandas.core.frame.DataFrame'>\n",
      "RangeIndex: 27737 entries, 0 to 27736\n",
      "Data columns (total 24 columns):\n",
      " #   Column                Non-Null Count  Dtype         \n",
      "---  ------                --------------  -----         \n",
      " 0   date                  27737 non-null  datetime64[ns]\n",
      " 1   sender_id             1521 non-null   float64       \n",
      " 2   bgl                   27681 non-null  float64       \n",
      " 3   bgl_date_millis       1501 non-null   float64       \n",
      " 4   text                  1516 non-null   object        \n",
      " 5   template              75 non-null     object        \n",
      " 6   msg_type              1521 non-null   object        \n",
      " 7   affects_fob           1521 non-null   object        \n",
      " 8   affects_iob           1521 non-null   object        \n",
      " 9   dose_units            647 non-null    float64       \n",
      " 10  food_g                720 non-null    float64       \n",
      " 11  food_glycemic_index   719 non-null    float64       \n",
      " 12  dose_automatic        1521 non-null   object        \n",
      " 13  fp_bgl                24 non-null     float64       \n",
      " 14  message_basal_change  0 non-null      float64       \n",
      " 15  __typename            27701 non-null  object        \n",
      " 16  trend                 26180 non-null  object        \n",
      " 17  year                  27737 non-null  int32         \n",
      " 18  month                 27737 non-null  int32         \n",
      " 19  day                   27737 non-null  int32         \n",
      " 20  hour                  27737 non-null  int32         \n",
      " 21  minute                27737 non-null  int32         \n",
      " 22  second                27737 non-null  int32         \n",
      " 23  seconds_with_micro    27737 non-null  float64       \n",
      "dtypes: datetime64[ns](1), float64(9), int32(6), object(8)\n",
      "memory usage: 4.4+ MB\n"
     ]
    }
   ],
   "source": [
    "df1.info()"
   ]
  },
  {
   "cell_type": "code",
   "execution_count": 10,
   "metadata": {},
   "outputs": [
    {
     "name": "stdout",
     "output_type": "stream",
     "text": [
      "<class 'pandas.core.frame.DataFrame'>\n",
      "RangeIndex: 32175 entries, 0 to 32174\n",
      "Data columns (total 24 columns):\n",
      " #   Column                Non-Null Count  Dtype         \n",
      "---  ------                --------------  -----         \n",
      " 0   date                  32175 non-null  datetime64[ns]\n",
      " 1   sender_id             791 non-null    float64       \n",
      " 2   bgl                   31906 non-null  float64       \n",
      " 3   bgl_date_millis       767 non-null    float64       \n",
      " 4   text                  781 non-null    object        \n",
      " 5   template              41 non-null     object        \n",
      " 6   msg_type              791 non-null    object        \n",
      " 7   affects_fob           791 non-null    object        \n",
      " 8   affects_iob           791 non-null    object        \n",
      " 9   dose_units            470 non-null    float64       \n",
      " 10  food_g                285 non-null    float64       \n",
      " 11  food_glycemic_index   276 non-null    float64       \n",
      " 12  dose_automatic        791 non-null    object        \n",
      " 13  fp_bgl                7 non-null      float64       \n",
      " 14  message_basal_change  0 non-null      float64       \n",
      " 15  __typename            31930 non-null  object        \n",
      " 16  trend                 31139 non-null  object        \n",
      " 17  year                  32175 non-null  int32         \n",
      " 18  month                 32175 non-null  int32         \n",
      " 19  day                   32175 non-null  int32         \n",
      " 20  hour                  32175 non-null  int32         \n",
      " 21  minute                32175 non-null  int32         \n",
      " 22  second                32175 non-null  int32         \n",
      " 23  seconds_with_micro    32175 non-null  float64       \n",
      "dtypes: datetime64[ns](1), float64(9), int32(6), object(8)\n",
      "memory usage: 5.2+ MB\n"
     ]
    }
   ],
   "source": [
    "df2.info()"
   ]
  },
  {
   "cell_type": "markdown",
   "metadata": {},
   "source": [
    "# Meal Identification"
   ]
  },
  {
   "cell_type": "markdown",
   "metadata": {},
   "source": [
    "`Objective`: Identify meal events from continuous blood glucose time series data.\n",
    "\n",
    "`Approach`:\n",
    "\n",
    "- Time Series Analysis: Detect spikes / rapid changes in blood glucose levels that could indicate meal times.\n",
    "- Pattern Recognition: Look for patterns typically associated with meals, such as rapid rises followed by gradual decreases.\n",
    "- Feature Engineering: Create features that could help identify meals, such as the rate of change, peak glucose levels after a spike, and the time interval between changes.\n",
    "- Visualization: Plot glucose levels around suspected meal times to validate whether these periods coincide with expected meal-induced changes."
   ]
  },
  {
   "cell_type": "markdown",
   "metadata": {},
   "source": [
    "## Meal Identification - chosen columns"
   ]
  },
  {
   "cell_type": "markdown",
   "metadata": {},
   "source": [
    "**Time and Context**: The `date`, `year`, `month`, `day`, and `seconds_with_micro` columns help establish the exact timing of meals, insulin doses, and glucose trends, which are crucial for linking these events to meals.\n",
    "\n",
    "**Glucose Response**: The `bgl`, `bgl_date_millis`, and `trend` columns provide direct measurements of how glucose levels respond around meal times.\n",
    "\n",
    "**Insulin and Food Intake**: `dose_units`, `affects_iob`, and `food_g` give insights into the interaction between insulin dosing and carbohydrate intake, both of which are critical for identifying meal impacts.\n",
    "\n",
    "**Meal and Insulin Events**: The `msg_type` column specifically flags meal announcements (`ANNOUNCE_MEAL`) and insulin doses (`DOSE_INSULIN`), which are direct indicators of meal events.\n",
    "\n",
    "**Detailed Food Analysis**: `food_glycemic_index` and `food_g` provide a deeper understanding of how the type and amount of food consumed affect glucose levels.\n",
    "\n",
    "**Manual Logs and Notes**: The `text` column can capture additional details that may not be recorded in structured data, such as corrections, user observations, or adjustments.\n"
   ]
  },
  {
   "cell_type": "code",
   "execution_count": 11,
   "metadata": {},
   "outputs": [],
   "source": [
    "# List of columns to filter in df1\n",
    "columns_to_filter = [\n",
    "    'date', 'year', 'month', 'day', 'hour', 'minute', 'second', 'seconds_with_micro', 'bgl', \n",
    "    'bgl_date_millis', 'text', 'dose_units', 'sender_id', 'msg_type', \n",
    "    'affects_fob', 'affects_iob', 'trend', 'dose_automatic', \n",
    "    'food_glycemic_index', 'food_g'\n",
    "]\n",
    "\n",
    "# Filtering the DataFrame to only include the specified columns\n",
    "df1_MI = df1[columns_to_filter]\n",
    "df2_MI = df2[columns_to_filter]"
   ]
  },
  {
   "cell_type": "code",
   "execution_count": 12,
   "metadata": {},
   "outputs": [],
   "source": [
    "# Create visualizations showing glucose levels with suspected meal events highlighted.\n",
    "# Use descriptive statistics to characterize glucose levels before, during,st and after meals."
   ]
  },
  {
   "cell_type": "code",
   "execution_count": 13,
   "metadata": {},
   "outputs": [
    {
     "data": {
      "text/html": [
       "<div>\n",
       "<style scoped>\n",
       "    .dataframe tbody tr th:only-of-type {\n",
       "        vertical-align: middle;\n",
       "    }\n",
       "\n",
       "    .dataframe tbody tr th {\n",
       "        vertical-align: top;\n",
       "    }\n",
       "\n",
       "    .dataframe thead th {\n",
       "        text-align: right;\n",
       "    }\n",
       "</style>\n",
       "<table border=\"1\" class=\"dataframe\">\n",
       "  <thead>\n",
       "    <tr style=\"text-align: right;\">\n",
       "      <th></th>\n",
       "      <th>date</th>\n",
       "      <th>year</th>\n",
       "      <th>month</th>\n",
       "      <th>day</th>\n",
       "      <th>hour</th>\n",
       "      <th>minute</th>\n",
       "      <th>second</th>\n",
       "      <th>seconds_with_micro</th>\n",
       "      <th>bgl</th>\n",
       "      <th>bgl_date_millis</th>\n",
       "      <th>text</th>\n",
       "      <th>dose_units</th>\n",
       "      <th>sender_id</th>\n",
       "      <th>msg_type</th>\n",
       "      <th>affects_fob</th>\n",
       "      <th>affects_iob</th>\n",
       "      <th>trend</th>\n",
       "      <th>dose_automatic</th>\n",
       "      <th>food_glycemic_index</th>\n",
       "      <th>food_g</th>\n",
       "    </tr>\n",
       "  </thead>\n",
       "  <tbody>\n",
       "    <tr>\n",
       "      <th>3693</th>\n",
       "      <td>2024-05-13 04:46:16.639</td>\n",
       "      <td>2024</td>\n",
       "      <td>5</td>\n",
       "      <td>13</td>\n",
       "      <td>4</td>\n",
       "      <td>46</td>\n",
       "      <td>16</td>\n",
       "      <td>16.639</td>\n",
       "      <td>72.0</td>\n",
       "      <td>1.715594e+12</td>\n",
       "      <td>12g Glucose</td>\n",
       "      <td>NaN</td>\n",
       "      <td>1057.0</td>\n",
       "      <td>INTERVENTION_SNACK</td>\n",
       "      <td>True</td>\n",
       "      <td>False</td>\n",
       "      <td>NaN</td>\n",
       "      <td>False</td>\n",
       "      <td>1.0</td>\n",
       "      <td>12.0</td>\n",
       "    </tr>\n",
       "    <tr>\n",
       "      <th>3694</th>\n",
       "      <td>2024-05-13 04:46:16.639</td>\n",
       "      <td>2024</td>\n",
       "      <td>5</td>\n",
       "      <td>13</td>\n",
       "      <td>4</td>\n",
       "      <td>46</td>\n",
       "      <td>16</td>\n",
       "      <td>16.639</td>\n",
       "      <td>72.0</td>\n",
       "      <td>1.715594e+12</td>\n",
       "      <td>9g Glucose</td>\n",
       "      <td>NaN</td>\n",
       "      <td>1057.0</td>\n",
       "      <td>INTERVENTION_SNACK</td>\n",
       "      <td>True</td>\n",
       "      <td>False</td>\n",
       "      <td>NaN</td>\n",
       "      <td>False</td>\n",
       "      <td>1.0</td>\n",
       "      <td>9.0</td>\n",
       "    </tr>\n",
       "    <tr>\n",
       "      <th>3695</th>\n",
       "      <td>2024-05-13 04:46:16.639</td>\n",
       "      <td>2024</td>\n",
       "      <td>5</td>\n",
       "      <td>13</td>\n",
       "      <td>4</td>\n",
       "      <td>46</td>\n",
       "      <td>16</td>\n",
       "      <td>16.639</td>\n",
       "      <td>72.0</td>\n",
       "      <td>1.715594e+12</td>\n",
       "      <td>6g Glucose</td>\n",
       "      <td>NaN</td>\n",
       "      <td>1057.0</td>\n",
       "      <td>INTERVENTION_SNACK</td>\n",
       "      <td>True</td>\n",
       "      <td>False</td>\n",
       "      <td>NaN</td>\n",
       "      <td>False</td>\n",
       "      <td>1.0</td>\n",
       "      <td>6.0</td>\n",
       "    </tr>\n",
       "  </tbody>\n",
       "</table>\n",
       "</div>"
      ],
      "text/plain": [
       "                        date  year  month  day  hour  minute  second  \\\n",
       "3693 2024-05-13 04:46:16.639  2024      5   13     4      46      16   \n",
       "3694 2024-05-13 04:46:16.639  2024      5   13     4      46      16   \n",
       "3695 2024-05-13 04:46:16.639  2024      5   13     4      46      16   \n",
       "\n",
       "      seconds_with_micro   bgl  bgl_date_millis         text  dose_units  \\\n",
       "3693              16.639  72.0     1.715594e+12  12g Glucose         NaN   \n",
       "3694              16.639  72.0     1.715594e+12   9g Glucose         NaN   \n",
       "3695              16.639  72.0     1.715594e+12   6g Glucose         NaN   \n",
       "\n",
       "      sender_id            msg_type affects_fob affects_iob trend  \\\n",
       "3693     1057.0  INTERVENTION_SNACK        True       False   NaN   \n",
       "3694     1057.0  INTERVENTION_SNACK        True       False   NaN   \n",
       "3695     1057.0  INTERVENTION_SNACK        True       False   NaN   \n",
       "\n",
       "     dose_automatic  food_glycemic_index  food_g  \n",
       "3693          False                  1.0    12.0  \n",
       "3694          False                  1.0     9.0  \n",
       "3695          False                  1.0     6.0  "
      ]
     },
     "execution_count": 13,
     "metadata": {},
     "output_type": "execute_result"
    }
   ],
   "source": [
    "df1_MI[df1_MI['date']=='2024-05-13 04:46:16.639']"
   ]
  },
  {
   "cell_type": "markdown",
   "metadata": {},
   "source": [
    "Question: Why are there multiple rows with same date but different `food_g` and `text` column? Is this because multiple food was logged at the same time?\n",
    "How should we handle this situation?\n",
    "\n"
   ]
  },
  {
   "cell_type": "code",
   "execution_count": 14,
   "metadata": {},
   "outputs": [
    {
     "data": {
      "text/html": [
       "<div>\n",
       "<style scoped>\n",
       "    .dataframe tbody tr th:only-of-type {\n",
       "        vertical-align: middle;\n",
       "    }\n",
       "\n",
       "    .dataframe tbody tr th {\n",
       "        vertical-align: top;\n",
       "    }\n",
       "\n",
       "    .dataframe thead th {\n",
       "        text-align: right;\n",
       "    }\n",
       "</style>\n",
       "<table border=\"1\" class=\"dataframe\">\n",
       "  <thead>\n",
       "    <tr style=\"text-align: right;\">\n",
       "      <th></th>\n",
       "      <th>date</th>\n",
       "      <th>year</th>\n",
       "      <th>month</th>\n",
       "      <th>day</th>\n",
       "      <th>hour</th>\n",
       "      <th>minute</th>\n",
       "      <th>second</th>\n",
       "      <th>seconds_with_micro</th>\n",
       "      <th>bgl</th>\n",
       "      <th>bgl_date_millis</th>\n",
       "      <th>dose_units</th>\n",
       "      <th>sender_id</th>\n",
       "      <th>food_glycemic_index</th>\n",
       "      <th>food_g</th>\n",
       "    </tr>\n",
       "  </thead>\n",
       "  <tbody>\n",
       "    <tr>\n",
       "      <th>count</th>\n",
       "      <td>27737</td>\n",
       "      <td>27737.0</td>\n",
       "      <td>27737.000000</td>\n",
       "      <td>27737.000000</td>\n",
       "      <td>27737.000000</td>\n",
       "      <td>27737.000000</td>\n",
       "      <td>27737.000000</td>\n",
       "      <td>27737.000000</td>\n",
       "      <td>27681.000000</td>\n",
       "      <td>1.501000e+03</td>\n",
       "      <td>647.000000</td>\n",
       "      <td>1521.000000</td>\n",
       "      <td>719.000000</td>\n",
       "      <td>720.000000</td>\n",
       "    </tr>\n",
       "    <tr>\n",
       "      <th>mean</th>\n",
       "      <td>2024-06-16 03:32:17.419502336</td>\n",
       "      <td>2024.0</td>\n",
       "      <td>6.003713</td>\n",
       "      <td>15.865667</td>\n",
       "      <td>11.651332</td>\n",
       "      <td>28.815697</td>\n",
       "      <td>26.368605</td>\n",
       "      <td>26.511329</td>\n",
       "      <td>111.946172</td>\n",
       "      <td>1.718641e+12</td>\n",
       "      <td>8.009274</td>\n",
       "      <td>1010.542406</td>\n",
       "      <td>0.610570</td>\n",
       "      <td>22.793056</td>\n",
       "    </tr>\n",
       "    <tr>\n",
       "      <th>min</th>\n",
       "      <td>2024-05-01 00:00:27.029000</td>\n",
       "      <td>2024.0</td>\n",
       "      <td>5.000000</td>\n",
       "      <td>1.000000</td>\n",
       "      <td>0.000000</td>\n",
       "      <td>0.000000</td>\n",
       "      <td>0.000000</td>\n",
       "      <td>0.000000</td>\n",
       "      <td>39.000000</td>\n",
       "      <td>1.714575e+12</td>\n",
       "      <td>0.000000</td>\n",
       "      <td>-1.000000</td>\n",
       "      <td>0.500000</td>\n",
       "      <td>3.000000</td>\n",
       "    </tr>\n",
       "    <tr>\n",
       "      <th>25%</th>\n",
       "      <td>2024-05-24 04:20:50</td>\n",
       "      <td>2024.0</td>\n",
       "      <td>5.000000</td>\n",
       "      <td>8.000000</td>\n",
       "      <td>6.000000</td>\n",
       "      <td>14.000000</td>\n",
       "      <td>11.000000</td>\n",
       "      <td>11.000000</td>\n",
       "      <td>89.000000</td>\n",
       "      <td>1.716669e+12</td>\n",
       "      <td>3.000000</td>\n",
       "      <td>1057.000000</td>\n",
       "      <td>0.500000</td>\n",
       "      <td>9.000000</td>\n",
       "    </tr>\n",
       "    <tr>\n",
       "      <th>50%</th>\n",
       "      <td>2024-06-16 06:06:57</td>\n",
       "      <td>2024.0</td>\n",
       "      <td>6.000000</td>\n",
       "      <td>16.000000</td>\n",
       "      <td>12.000000</td>\n",
       "      <td>29.000000</td>\n",
       "      <td>26.000000</td>\n",
       "      <td>26.000000</td>\n",
       "      <td>108.000000</td>\n",
       "      <td>1.718630e+12</td>\n",
       "      <td>6.000000</td>\n",
       "      <td>1057.000000</td>\n",
       "      <td>0.500000</td>\n",
       "      <td>15.000000</td>\n",
       "    </tr>\n",
       "    <tr>\n",
       "      <th>75%</th>\n",
       "      <td>2024-07-09 05:03:03</td>\n",
       "      <td>2024.0</td>\n",
       "      <td>7.000000</td>\n",
       "      <td>24.000000</td>\n",
       "      <td>18.000000</td>\n",
       "      <td>44.000000</td>\n",
       "      <td>40.000000</td>\n",
       "      <td>40.000000</td>\n",
       "      <td>130.000000</td>\n",
       "      <td>1.720710e+12</td>\n",
       "      <td>9.000000</td>\n",
       "      <td>1057.000000</td>\n",
       "      <td>0.500000</td>\n",
       "      <td>35.000000</td>\n",
       "    </tr>\n",
       "    <tr>\n",
       "      <th>max</th>\n",
       "      <td>2024-07-31 23:55:41.451000</td>\n",
       "      <td>2024.0</td>\n",
       "      <td>7.000000</td>\n",
       "      <td>31.000000</td>\n",
       "      <td>23.000000</td>\n",
       "      <td>59.000000</td>\n",
       "      <td>59.000000</td>\n",
       "      <td>59.985000</td>\n",
       "      <td>252.000000</td>\n",
       "      <td>1.722482e+12</td>\n",
       "      <td>26.000000</td>\n",
       "      <td>1102.000000</td>\n",
       "      <td>1.000000</td>\n",
       "      <td>100.000000</td>\n",
       "    </tr>\n",
       "    <tr>\n",
       "      <th>std</th>\n",
       "      <td>NaN</td>\n",
       "      <td>0.0</td>\n",
       "      <td>0.821338</td>\n",
       "      <td>8.865896</td>\n",
       "      <td>6.889469</td>\n",
       "      <td>17.292988</td>\n",
       "      <td>16.932738</td>\n",
       "      <td>16.912297</td>\n",
       "      <td>31.186758</td>\n",
       "      <td>2.305900e+09</td>\n",
       "      <td>7.221179</td>\n",
       "      <td>217.082390</td>\n",
       "      <td>0.207652</td>\n",
       "      <td>19.088847</td>\n",
       "    </tr>\n",
       "  </tbody>\n",
       "</table>\n",
       "</div>"
      ],
      "text/plain": [
       "                                date     year         month           day  \\\n",
       "count                          27737  27737.0  27737.000000  27737.000000   \n",
       "mean   2024-06-16 03:32:17.419502336   2024.0      6.003713     15.865667   \n",
       "min       2024-05-01 00:00:27.029000   2024.0      5.000000      1.000000   \n",
       "25%              2024-05-24 04:20:50   2024.0      5.000000      8.000000   \n",
       "50%              2024-06-16 06:06:57   2024.0      6.000000     16.000000   \n",
       "75%              2024-07-09 05:03:03   2024.0      7.000000     24.000000   \n",
       "max       2024-07-31 23:55:41.451000   2024.0      7.000000     31.000000   \n",
       "std                              NaN      0.0      0.821338      8.865896   \n",
       "\n",
       "               hour        minute        second  seconds_with_micro  \\\n",
       "count  27737.000000  27737.000000  27737.000000        27737.000000   \n",
       "mean      11.651332     28.815697     26.368605           26.511329   \n",
       "min        0.000000      0.000000      0.000000            0.000000   \n",
       "25%        6.000000     14.000000     11.000000           11.000000   \n",
       "50%       12.000000     29.000000     26.000000           26.000000   \n",
       "75%       18.000000     44.000000     40.000000           40.000000   \n",
       "max       23.000000     59.000000     59.000000           59.985000   \n",
       "std        6.889469     17.292988     16.932738           16.912297   \n",
       "\n",
       "                bgl  bgl_date_millis  dose_units    sender_id  \\\n",
       "count  27681.000000     1.501000e+03  647.000000  1521.000000   \n",
       "mean     111.946172     1.718641e+12    8.009274  1010.542406   \n",
       "min       39.000000     1.714575e+12    0.000000    -1.000000   \n",
       "25%       89.000000     1.716669e+12    3.000000  1057.000000   \n",
       "50%      108.000000     1.718630e+12    6.000000  1057.000000   \n",
       "75%      130.000000     1.720710e+12    9.000000  1057.000000   \n",
       "max      252.000000     1.722482e+12   26.000000  1102.000000   \n",
       "std       31.186758     2.305900e+09    7.221179   217.082390   \n",
       "\n",
       "       food_glycemic_index      food_g  \n",
       "count           719.000000  720.000000  \n",
       "mean              0.610570   22.793056  \n",
       "min               0.500000    3.000000  \n",
       "25%               0.500000    9.000000  \n",
       "50%               0.500000   15.000000  \n",
       "75%               0.500000   35.000000  \n",
       "max               1.000000  100.000000  \n",
       "std               0.207652   19.088847  "
      ]
     },
     "execution_count": 14,
     "metadata": {},
     "output_type": "execute_result"
    }
   ],
   "source": [
    "df1_MI.describe()"
   ]
  },
  {
   "cell_type": "code",
   "execution_count": 15,
   "metadata": {},
   "outputs": [
    {
     "data": {
      "image/png": "[encoded data removed]",
      "text/plain": [
       "<Figure size 1200x600 with 1 Axes>"
      ]
     },
     "metadata": {},
     "output_type": "display_data"
    }
   ],
   "source": [
    "# Get unique combinations of year, month, and day\n",
    "unique_dates = df1_MI[['year', 'month', 'day']].drop_duplicates()\n",
    "\n",
    "# Randomly sample 2 unique date combinations\n",
    "random_dates = unique_dates.sample(n=3)\n",
    "\n",
    "# Select all rows that belong to the sampled dates\n",
    "df_random_samples = df1_MI.merge(random_dates, on=['year', 'month', 'day'])\n",
    "\n",
    "# First, ensure that 'hour' and 'minute' columns are available\n",
    "# Create a new column for the formatted time as 'hour:min' to ensure time alignment by hour and minute only\n",
    "df_random_samples['time_formatted'] = df_random_samples.apply(\n",
    "    lambda row: f\"{int(row['hour']):02d}:{int(row['minute']):02d}\",\n",
    "    axis=1\n",
    ")\n",
    "\n",
    "# Create a new column combining year, month, and day for the hue/legend\n",
    "df_random_samples['date_label'] = df_random_samples.apply(\n",
    "    lambda row: f\"{int(row['year'])}-{int(row['month']):02d}-{int(row['day']):02d}\",\n",
    "    axis=1\n",
    ")\n",
    "\n",
    "# Sort the data by time to ensure proper plotting\n",
    "df_random_samples = df_random_samples.sort_values(by=['hour', 'minute'])\n",
    "\n",
    "# Set up the figure\n",
    "plt.figure(figsize=(12, 6))\n",
    "\n",
    "# Plot the data with date_label as hue to distinguish lines by date\n",
    "sns.lineplot(data=df_random_samples, x='time_formatted', y='bgl', hue='date_label', marker='o')\n",
    "\n",
    "# Reduce the number of ticks shown on the x-axis (e.g., every 30 minutes or as needed)\n",
    "x_ticks = np.arange(0, len(df_random_samples['time_formatted']), step=30)  # Adjust 'step' to control density\n",
    "plt.xticks(ticks=x_ticks, labels=df_random_samples['time_formatted'].iloc[x_ticks], rotation=45)\n",
    "\n",
    "# Title and labels\n",
    "plt.title('BGL Trends for Randomly Sampled Dates (Overlay by Hour and Minute)')\n",
    "plt.xlabel('Time (HH:MM)')\n",
    "plt.ylabel('Blood Glucose Level (BGL)')\n",
    "plt.legend(title='Year-Month-Day')\n",
    "plt.tight_layout()\n",
    "plt.show()\n",
    "\n"
   ]
  },
  {
   "cell_type": "markdown",
   "metadata": {},
   "source": [
    "The graph above plots 3 random days from the user and plots the `bgl` level of the user at that time. \n",
    "\n",
    "The purpose of this graph is to see if there is a common trend in `bgl` spikes throughout different times of day."
   ]
  },
  {
   "cell_type": "markdown",
   "metadata": {},
   "source": [
    "1.) Lets calculate BGL Rate of Change"
   ]
  },
  {
   "cell_type": "code",
   "execution_count": 16,
   "metadata": {},
   "outputs": [],
   "source": [
    "# Ensure your data is sorted by time within each day\n",
    "df1_MI = df1_MI.sort_values(by=['year', 'month', 'day', 'hour', 'minute', 'second', 'seconds_with_micro'])\n",
    "\n",
    "# Calculate the difference in BGL between consecutive measurements\n",
    "df1_MI['bgl_diff'] = df1_MI['bgl'].diff()\n",
    "\n",
    "# Optionally, calculate the rate of change per time unit (if time intervals are uneven)\n",
    "df1_MI['time_diff'] = df1_MI['seconds_with_micro'].diff() + df1_MI['minute'].diff() * 60 + df1_MI['hour'].diff() * 3600\n",
    "df1_MI['bgl_rate_of_change'] = df1_MI['bgl_diff'] / df1_MI['time_diff']"
   ]
  },
  {
   "cell_type": "markdown",
   "metadata": {},
   "source": [
    "2.) Detect Peaksin BGL\n",
    "\n",
    "Detect local peaks in BGL values, which typically correspond to a rise after meals. This can be done using a rolling window or other peak-detection methods."
   ]
  },
  {
   "cell_type": "code",
   "execution_count": 17,
   "metadata": {},
   "outputs": [],
   "source": [
    "# Using a rolling window to smooth out BGL and identify meal peaks\n",
    "df1_MI['bgl_smooth'] = df1_MI['bgl'].rolling(window=5).mean()  # Adjust window size if necessary"
   ]
  },
  {
   "cell_type": "code",
   "execution_count": 18,
   "metadata": {},
   "outputs": [],
   "source": [
    "from scipy.signal import find_peaks\n",
    "\n",
    "# Detect peaks in smoothed BGL data\n",
    "peaks, _ = find_peaks(df1_MI['bgl_smooth'], prominence=5)  # Adjust prominence based on your data\n",
    "\n",
    "# Mark peaks in the dataset\n",
    "df1_MI['meal_detected'] = 0\n",
    "df1_MI.loc[peaks, 'meal_detected'] = 1"
   ]
  },
  {
   "cell_type": "markdown",
   "metadata": {},
   "source": [
    "3.) Correlate BGL Spikes with Food Intake:\n",
    "If you have a `food_g` column (representing the amount of food consumed), you can correlate the detected BGL spikes with food intake."
   ]
  },
  {
   "cell_type": "code",
   "execution_count": 19,
   "metadata": {},
   "outputs": [
    {
     "data": {
      "text/html": [
       "<div>\n",
       "<style scoped>\n",
       "    .dataframe tbody tr th:only-of-type {\n",
       "        vertical-align: middle;\n",
       "    }\n",
       "\n",
       "    .dataframe tbody tr th {\n",
       "        vertical-align: top;\n",
       "    }\n",
       "\n",
       "    .dataframe thead th {\n",
       "        text-align: right;\n",
       "    }\n",
       "</style>\n",
       "<table border=\"1\" class=\"dataframe\">\n",
       "  <thead>\n",
       "    <tr style=\"text-align: right;\">\n",
       "      <th></th>\n",
       "      <th>bgl</th>\n",
       "      <th>food_g</th>\n",
       "    </tr>\n",
       "  </thead>\n",
       "  <tbody>\n",
       "    <tr>\n",
       "      <th>bgl</th>\n",
       "      <td>1.000000</td>\n",
       "      <td>0.320257</td>\n",
       "    </tr>\n",
       "    <tr>\n",
       "      <th>food_g</th>\n",
       "      <td>0.320257</td>\n",
       "      <td>1.000000</td>\n",
       "    </tr>\n",
       "  </tbody>\n",
       "</table>\n",
       "</div>"
      ],
      "text/plain": [
       "             bgl    food_g\n",
       "bgl     1.000000  0.320257\n",
       "food_g  0.320257  1.000000"
      ]
     },
     "execution_count": 19,
     "metadata": {},
     "output_type": "execute_result"
    }
   ],
   "source": [
    "# Check for correlation between BGL spikes and food intake\n",
    "df1_MI[['bgl', 'food_g']].corr()\n"
   ]
  },
  {
   "cell_type": "markdown",
   "metadata": {},
   "source": [
    "4.) Investigate Time of Day:\n",
    "Meals generally follow certain patterns (e.g., breakfast, lunch, dinner). You can group the data by time of day to analyze when BGL spikes commonly occur."
   ]
  },
  {
   "cell_type": "code",
   "execution_count": 20,
   "metadata": {},
   "outputs": [
    {
     "data": {
      "image/png": "[encoded data removed]",
      "text/plain": [
       "<Figure size 640x480 with 1 Axes>"
      ]
     },
     "metadata": {},
     "output_type": "display_data"
    }
   ],
   "source": [
    "# Group by hour of the day to analyze common meal times\n",
    "df1_MI['hour'] = df1_MI['hour']  # Ensure hour column is present\n",
    "hourly_meal_patterns = df1_MI.groupby('hour')['bgl'].mean()\n",
    "\n",
    "# Plot the average BGL by hour\n",
    "hourly_meal_patterns.plot(kind='bar', title='Average BGL by Hour')\n",
    "plt.show()\n"
   ]
  },
  {
   "cell_type": "markdown",
   "metadata": {},
   "source": [
    "5.) Cluster Analysis for Meal Detection:\n",
    "If you want a more advanced approach, you can use clustering techniques like KMeans to group BGL patterns that correspond to meals."
   ]
  },
  {
   "cell_type": "code",
   "execution_count": 3,
   "metadata": {},
   "outputs": [
    {
     "ename": "ModuleNotFoundError",
     "evalue": "No module named 'sklearn'",
     "output_type": "error",
     "traceback": [
      "\u001b[1;31m---------------------------------------------------------------------------\u001b[0m",
      "\u001b[1;31mModuleNotFoundError\u001b[0m                       Traceback (most recent call last)",
      "Cell \u001b[1;32mIn[3], line 1\u001b[0m\n\u001b[1;32m----> 1\u001b[0m \u001b[38;5;28;01mfrom\u001b[39;00m \u001b[38;5;21;01msklearn\u001b[39;00m\u001b[38;5;21;01m.\u001b[39;00m\u001b[38;5;21;01mcluster\u001b[39;00m \u001b[38;5;28;01mimport\u001b[39;00m KMeans\n\u001b[0;32m      3\u001b[0m \u001b[38;5;66;03m# Select features that may influence meal patterns\u001b[39;00m\n\u001b[0;32m      4\u001b[0m features \u001b[38;5;241m=\u001b[39m df1_MI[[\u001b[38;5;124m'\u001b[39m\u001b[38;5;124mbgl\u001b[39m\u001b[38;5;124m'\u001b[39m, \u001b[38;5;124m'\u001b[39m\u001b[38;5;124mbgl_diff\u001b[39m\u001b[38;5;124m'\u001b[39m, \u001b[38;5;124m'\u001b[39m\u001b[38;5;124mhour\u001b[39m\u001b[38;5;124m'\u001b[39m, \u001b[38;5;124m'\u001b[39m\u001b[38;5;124mfood_g\u001b[39m\u001b[38;5;124m'\u001b[39m, \u001b[38;5;124m'\u001b[39m\u001b[38;5;124mdose_units\u001b[39m\u001b[38;5;124m'\u001b[39m]]\u001b[38;5;241m.\u001b[39mfillna(\u001b[38;5;241m0\u001b[39m)\n",
      "\u001b[1;31mModuleNotFoundError\u001b[0m: No module named 'sklearn'"
     ]
    }
   ],
   "source": [
    "from sklearn.cluster import KMeans\n",
    "\n",
    "# Select features that may influence meal patterns\n",
    "features = df1_MI[['bgl', 'bgl_diff', 'hour', 'food_g', 'dose_units']].fillna(0)\n",
    "\n",
    "# Fit a KMeans model to cluster meal times\n",
    "kmeans = KMeans(n_clusters=3, random_state=42)\n",
    "df1_MI['meal_cluster'] = kmeans.fit_predict(features)\n",
    "\n",
    "# Analyze clusters to understand meal times"
   ]
  },
  {
   "cell_type": "markdown",
   "metadata": {},
   "source": [
    "# Mean Scoring"
   ]
  },
  {
   "cell_type": "markdown",
   "metadata": {},
   "source": [
    "`Objective:` Assess the average glucose levels over time to identify periods of good or poor control.\n",
    "\n",
    "`Approach:`\n",
    "\n",
    "- Calculate Mean Glucose Levels: Compute the mean glucose levels over specific time windows (e.g., hourly, daily) to get a sense of average control.\n",
    "- Categorize Control Quality: Define ranges for good, moderate, and poor control (e.g., using thresholds like 70-180 mg/dL).\n",
    "- Temporal Analysis: Analyze how mean glucose scores change over time to identify trends in control quality.\n",
    "- Comparisons: Compare mean glucose levels across different contexts (e.g., weekdays vs. weekends, before vs. after interventions)."
   ]
  },
  {
   "cell_type": "code",
   "execution_count": null,
   "metadata": {},
   "outputs": [],
   "source": [
    "# Visualize mean glucose scores with thresholds marked to highlight periods of good or poor control.\n",
    "# Use bar plots or line charts to track changes in mean glucose levels over time."
   ]
  },
  {
   "cell_type": "markdown",
   "metadata": {},
   "source": [
    "# Prandial Interventions and Counterfactuals"
   ]
  },
  {
   "cell_type": "markdown",
   "metadata": {},
   "source": [
    "`Objective:` Explore how interventions around meals (e.g., insulin doses) impact glucose levels and simulate potential outcomes of alternative strategies.\n",
    "\n",
    "`Approach:`\n",
    "\n",
    "- Identify Prandial Interventions: Locate points in the data where insulin or other interventions were administered around meal times.\n",
    "- Analyze Intervention Effectiveness: Assess the impact of these interventions by comparing glucose levels before and after the intervention.\n",
    "- Counterfactual Analysis: Hypothesize what might have happened if a different intervention had been used (e.g., delayed insulin administration).\n",
    "- Visualization: Use plots to show glucose trajectories with and without interventions, and overlay counterfactual scenarios."
   ]
  },
  {
   "cell_type": "code",
   "execution_count": null,
   "metadata": {},
   "outputs": [],
   "source": [
    "# Create side-by-side plots showing actual vs. hypothetical glucose responses to different prandial interventions.\n",
    "# Highlight instances where the intervention timing or dosage could be optimized."
   ]
  },
  {
   "cell_type": "markdown",
   "metadata": {},
   "source": [
    "# Blood Glucose Controller"
   ]
  },
  {
   "cell_type": "markdown",
   "metadata": {},
   "source": [
    "`Objective:` Understand how well blood glucose is being maintained within target ranges and identify areas for potential improvement.\n",
    "\n",
    "`Approach:`\n",
    "\n",
    "- Control Analysis: Identify periods where glucose levels are within, above, or below the target range (70-180 mg/dL).\n",
    "- Glucose Variability Assessment: Evaluate metrics such as standard deviation, coefficient of variation, or time-in-range to assess overall control stability.\n",
    "- Predictive Modeling: Explore simple models that can predict future glucose levels based on current and past data.\n",
    "- Visualization: Use control charts or time-in-range plots to show overall control performance."
   ]
  },
  {
   "cell_type": "code",
   "execution_count": null,
   "metadata": {},
   "outputs": [],
   "source": [
    "# Generate time-in-range plots that show how often glucose levels are within the target range.\n",
    "# Use scatter plots to show variability and trends that might indicate a need for controller adjustments."
   ]
  },
  {
   "cell_type": "markdown",
   "metadata": {},
   "source": [
    "### Two Data Visualizations\n",
    "\n",
    "Create at least two visualizations that are of interest to you. They can be things that would be useful information for a PWD to know, or they could be useful for informing future modeling work. If you aren't sure what to visualize try recreating common diabetes data visualizations that you can find on the internet. "
   ]
  },
  {
   "cell_type": "code",
   "execution_count": null,
   "metadata": {},
   "outputs": [],
   "source": []
  },
  {
   "cell_type": "markdown",
   "metadata": {},
   "source": [
    "### Ask a question(s) about the data and/or diabetes!\n",
    "When creating the visualizations you probably had some questions about managing T1D. Ask some questions that might interest you and our diabetes experts will do their best to answer them for you! *Consider this an AMAA about diabetes.* \n",
    "\n",
    "1. [Question 1]\n",
    "2. [Question 2]"
   ]
  },
  {
   "cell_type": "markdown",
   "metadata": {},
   "source": [
    "### Final Task\n",
    "\n",
    "Thanks for showing interest in our project! We plan to incorporate the best/most interesting visualizations into a substack post in the future. \n",
    "\n",
    "Please remember to create a pull request with your updated template, don't forget to rename the file to something that we can identify you with, e.g: `eda_[your_name].ipynb`"
   ]
  }
 ],
 "metadata": {
  "kernelspec": {
   "display_name": "Python 3",
   "language": "python",
   "name": "python3"
  },
  "language_info": {
   "codemirror_mode": {
    "name": "ipython",
    "version": 3
   },
   "file_extension": ".py",
   "mimetype": "text/x-python",
   "name": "python",
   "nbconvert_exporter": "python",
   "pygments_lexer": "ipython3",
   "version": "3.12.6"
  }
 },
 "nbformat": 4,
 "nbformat_minor": 2
}
